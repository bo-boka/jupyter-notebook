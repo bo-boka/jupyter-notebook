{
 "cells": [
  {
   "cell_type": "markdown",
   "metadata": {},
   "source": [
    "# NumPy"
   ]
  },
  {
   "cell_type": "markdown",
   "metadata": {},
   "source": [
    "* stands for Numerical Python\n",
    "* provides Python with an extensive math library capable of performing numerical computations effectively and efficiently.\n",
    "* fundamental package designed for efficient scientific computing in Python\n",
    "* built on top of language C, which works on a lower level on computer\n",
    "* core of NumPy is N-dimensional array object (ndarrays) with elements of the same data type\n",
    " * also used as a container for generic data & allows efficient integration with databases\n",
    "* comes installed with Anaconda"
   ]
  },
  {
   "cell_type": "markdown",
   "metadata": {},
   "source": [
    "Import NumPy to use functionality in this notebook"
   ]
  },
  {
   "cell_type": "code",
   "execution_count": 1,
   "metadata": {},
   "outputs": [],
   "source": [
    "import numpy as np"
   ]
  },
  {
   "cell_type": "markdown",
   "metadata": {},
   "source": [
    "### Advantages of NumPy"
   ]
  },
  {
   "cell_type": "markdown",
   "metadata": {},
   "source": [
    "**Power** <br>\n",
    "NumPy can handle more datatypes than Python"
   ]
  },
  {
   "cell_type": "markdown",
   "metadata": {},
   "source": [
    "**Efficiency & Optimization** <br>\n",
    "When performing operations on large arrays NumPy can often perform several orders of magnitude faster than Python lists\n",
    "\n",
    "1. NumPy's multidimensional array data structures (ndarrays)\n",
    " 1. the nature of NumPy ndarrays are more memory-efficient\n",
    " 2. can represent vectors and matrices, used in a lot of machine learning algorithms, & have optimized for these structures.\n",
    " \n",
    "2. NumPy has a large number of optimized built-in mathematical functions \n",
    " 1. optimized algorithms for doing complex arithmetic, statistical, and linear algebra operations.\n",
    " 2. increases readability by reducing code (avoiding the use of complicated loops) \n",
    " "
   ]
  },
  {
   "cell_type": "code",
   "execution_count": 10,
   "metadata": {},
   "outputs": [
    {
     "name": "stdout",
     "output_type": "stream",
     "text": [
      "\n",
      "Python time to calculate mean: 13.831938743591309\n",
      "\n",
      "NumPy time to calculate mean: 0.0525362491607666\n"
     ]
    }
   ],
   "source": [
    "'''\n",
    "Calculate mean of large array using Python vs NumPy to see which is faster\n",
    "'''\n",
    "import time\n",
    "\n",
    "# generates array of 100 million floats btw 0 and 1\n",
    "x = np.random.random(100000000)\n",
    "\n",
    "# Case 1\n",
    "start = time.time()\n",
    "sum(x) / len(x)\n",
    "print(\"Python time to calculate mean:\", time.time() - start)\n",
    "\n",
    "# Case 2\n",
    "start = time.time()\n",
    "np.mean(x)\n",
    "print(\"NumPy time to calculate mean:\", time.time() - start)"
   ]
  },
  {
   "cell_type": "markdown",
   "metadata": {},
   "source": [
    "### N-Dimensional Arrays"
   ]
  },
  {
   "cell_type": "markdown",
   "metadata": {},
   "source": [
    "* NumPy's ndarrays are optimized for data science & machine learning\n",
    "* ndarrays are mutable, but they cannot be resized\n",
    " * deleting elements creates a new array\n",
    "* numpy arrays must contain all the same datatypes\n",
    " * if converting a py list of mixed data types, numpy will upcast \n",
    "* arrays with 1 dimension are called 'Rank 1', 2D arrays are 'Rank 2', etc.\n",
    " \n",
    "***\n",
    "You can create NP arrays 2 ways\n",
    "1. Convert a Python list\n",
    "2. Create from scratch"
   ]
  },
  {
   "cell_type": "markdown",
   "metadata": {},
   "source": [
    "## Creating NP Arrays from Python List\n",
    "Numpy will convert python lists to arrays with a default datatype for the elements. Since Numpy only allows homogenous type elements, if a list with mixed datatypes is given, numpy will upcast the types."
   ]
  },
  {
   "cell_type": "markdown",
   "metadata": {},
   "source": [
    "**Convert Python List to Numpy Array**"
   ]
  },
  {
   "cell_type": "code",
   "execution_count": 32,
   "metadata": {},
   "outputs": [
    {
     "name": "stdout",
     "output_type": "stream",
     "text": [
      "type: <class 'numpy.ndarray'>\n"
     ]
    }
   ],
   "source": [
    "# one-dimensional(1D) array containing strings\n",
    "arr_str_1d = np.array([\"one\", \"two\", \"three\", \"four\", \"five\"])\n",
    "\n",
    "# 2D array containing ints\n",
    "arr_int_2d = np.array([[1,2,3], [4,5,6], [7,8,9], [10,11,12]])\n",
    "\n",
    "# array containing mixed data types of string & ints\n",
    "arr_mix_str_int = np.array([1, 2, \"three\"])\n",
    "\n",
    "# array containing mixed data types of floats & ints\n",
    "arr_mix_float_int = np.array([1, 2.5, 4])\n",
    "\n",
    "print(\"type:\", type(x))"
   ]
  },
  {
   "cell_type": "markdown",
   "metadata": {},
   "source": [
    "**Get the datatype of elements in array to see how they're created**"
   ]
  },
  {
   "cell_type": "code",
   "execution_count": 38,
   "metadata": {},
   "outputs": [
    {
     "data": {
      "text/plain": [
       "dtype('<U5')"
      ]
     },
     "execution_count": 38,
     "metadata": {},
     "output_type": "execute_result"
    }
   ],
   "source": [
    "# string arrays are stored as unicode strings of 5 characters\n",
    "arr_str_1d.dtype"
   ]
  },
  {
   "cell_type": "code",
   "execution_count": 34,
   "metadata": {},
   "outputs": [
    {
     "data": {
      "text/plain": [
       "dtype('int64')"
      ]
     },
     "execution_count": 34,
     "metadata": {},
     "output_type": "execute_result"
    }
   ],
   "source": [
    "# integer arrays are stored as 64 bit integers\n",
    "arr_int_2d.dtype"
   ]
  },
  {
   "cell_type": "code",
   "execution_count": 35,
   "metadata": {},
   "outputs": [
    {
     "name": "stdout",
     "output_type": "stream",
     "text": [
      "['1' '2' 'three']\n",
      "<U21\n"
     ]
    }
   ],
   "source": [
    "# arrays with mixed datatype of strings & ints are converted to the same type \n",
    "# & stored as unicode strings of 21 characters due to upcasting\n",
    "print(arr_mix_str_int)\n",
    "print(arr_mix_str_int.dtype)"
   ]
  },
  {
   "cell_type": "code",
   "execution_count": 36,
   "metadata": {},
   "outputs": [
    {
     "name": "stdout",
     "output_type": "stream",
     "text": [
      "[1.  2.5 4. ]\n",
      "float64\n"
     ]
    }
   ],
   "source": [
    "# arrays with mixed datatype of floats & ints are converted to the same type \n",
    "# & stored as unicode strings of 21 characters due to upcasting to floats\n",
    "print(arr_mix_float_int)\n",
    "print(arr_mix_float_int.dtype)"
   ]
  },
  {
   "cell_type": "markdown",
   "metadata": {},
   "source": [
    "**Can assign datatype to array if you're unsure about the existing datatypes**"
   ]
  },
  {
   "cell_type": "code",
   "execution_count": 39,
   "metadata": {},
   "outputs": [
    {
     "name": "stdout",
     "output_type": "stream",
     "text": [
      "[1 2 3]\n",
      "int64\n"
     ]
    }
   ],
   "source": [
    "# convert float array to ints\n",
    "arr_convert_float_int = np.array([1.5, 2.2, 3.7], dtype=np.int64)\n",
    "print(arr_convert_float_int)\n",
    "print(arr_convert_float_int.dtype)"
   ]
  },
  {
   "cell_type": "markdown",
   "metadata": {},
   "source": [
    "## Creating Ndarrays from Scratch"
   ]
  },
  {
   "cell_type": "markdown",
   "metadata": {},
   "source": [
    "**Create Numpy Array of 0's with a specified shape**"
   ]
  },
  {
   "cell_type": "code",
   "execution_count": 62,
   "metadata": {},
   "outputs": [
    {
     "name": "stdout",
     "output_type": "stream",
     "text": [
      "[[0. 0. 0. 0.]\n",
      " [0. 0. 0. 0.]\n",
      " [0. 0. 0. 0.]]\n",
      "default dtype: float64\n"
     ]
    }
   ],
   "source": [
    "nd_arr = np.zeros((3, 4))\n",
    "print(np_arr)\n",
    "\n",
    "# default of elements is float64\n",
    "print(\"default dtype:\", nd_arr.dtype)"
   ]
  },
  {
   "cell_type": "markdown",
   "metadata": {},
   "source": [
    "**Create ndarray with specified datatype using the dtype arg**"
   ]
  },
  {
   "cell_type": "code",
   "execution_count": 58,
   "metadata": {},
   "outputs": [
    {
     "name": "stdout",
     "output_type": "stream",
     "text": [
      "[[0 0 0 0]\n",
      " [0 0 0 0]\n",
      " [0 0 0 0]]\n",
      "spedified dtype: int64\n"
     ]
    }
   ],
   "source": [
    "nd_arr_int = np.zeros((3, 4), dtype=int)\n",
    "print(nd_arr_int)\n",
    "print(\"specified dtype:\", nd_arr_int.dtype)"
   ]
  },
  {
   "cell_type": "markdown",
   "metadata": {},
   "source": [
    "**Create ndarray with 1's**"
   ]
  },
  {
   "cell_type": "code",
   "execution_count": 60,
   "metadata": {},
   "outputs": [
    {
     "name": "stdout",
     "output_type": "stream",
     "text": [
      "[[1. 1. 1. 1.]\n",
      " [1. 1. 1. 1.]\n",
      " [1. 1. 1. 1.]]\n"
     ]
    }
   ],
   "source": [
    "nd_arr_1s = np.ones((3, 4))\n",
    "print(nd_arr_1s)"
   ]
  },
  {
   "cell_type": "markdown",
   "metadata": {},
   "source": [
    "**Create ndarray with specified shape & constant**"
   ]
  },
  {
   "cell_type": "code",
   "execution_count": 61,
   "metadata": {},
   "outputs": [
    {
     "name": "stdout",
     "output_type": "stream",
     "text": [
      "[[5 5 5 5]\n",
      " [5 5 5 5]\n",
      " [5 5 5 5]]\n",
      "default dtype: int64\n"
     ]
    }
   ],
   "source": [
    "nd_arr_s = np.full((3, 4), 5)\n",
    "print(nd_arr_s)\n",
    "\n",
    "# dtype is same as constant arg\n",
    "print(\"default dtype:\", nd_arr_s.dtype)"
   ]
  },
  {
   "cell_type": "markdown",
   "metadata": {},
   "source": [
    "**Create Identity Matrix**<br>\n",
    "An Identity Matrix is a square matrix filled with zeroes, except diagonal is filled with ones."
   ]
  },
  {
   "cell_type": "code",
   "execution_count": 64,
   "metadata": {},
   "outputs": [
    {
     "data": {
      "text/plain": [
       "array([[1., 0., 0., 0., 0.],\n",
       "       [0., 1., 0., 0., 0.],\n",
       "       [0., 0., 1., 0., 0.],\n",
       "       [0., 0., 0., 1., 0.],\n",
       "       [0., 0., 0., 0., 1.]])"
      ]
     },
     "execution_count": 64,
     "metadata": {},
     "output_type": "execute_result"
    }
   ],
   "source": [
    "# the arg specifies the size\n",
    "id_matrix = np.eye(5)\n",
    "id_matrix"
   ]
  },
  {
   "cell_type": "markdown",
   "metadata": {},
   "source": [
    "**Create a Square Matrix with specified diagonals**"
   ]
  },
  {
   "cell_type": "code",
   "execution_count": 66,
   "metadata": {},
   "outputs": [
    {
     "name": "stdout",
     "output_type": "stream",
     "text": [
      "[[10  0  0  0]\n",
      " [ 0 20  0  0]\n",
      " [ 0  0 30  0]\n",
      " [ 0  0  0 50]]\n"
     ]
    }
   ],
   "source": [
    "# arg takes a list of diagonals\n",
    "diag_matrix = np.diag([10, 20, 30 ,50])\n",
    "print(diag_matrix)"
   ]
  },
  {
   "cell_type": "markdown",
   "metadata": {},
   "source": [
    "**Create ndarray with specified range of ints**<br>\n",
    "Although arange() can accept non-int steps, the output is usually inconsistent due to finite floating point precision. Use next func instead."
   ]
  },
  {
   "cell_type": "code",
   "execution_count": 69,
   "metadata": {},
   "outputs": [
    {
     "name": "stdout",
     "output_type": "stream",
     "text": [
      "1 arg is 10:\n",
      " [0 1 2 3 4 5 6 7 8 9]\n",
      "2 args, 4 & 10:\n",
      " [4 5 6 7 8 9]\n",
      "3 args, 1, 14, 3:\n",
      " [ 1  4  7 10 13]\n"
     ]
    }
   ],
   "source": [
    "# when only 1 arg is given, it's used as a stop arg, which is exclusive\n",
    "nd_arg1 = np.arange(10)\n",
    "print(\"1 arg is 10:\\n\", nd_arg1)\n",
    "\n",
    "# when 2 args given, 1st is start, 2nd is stop\n",
    "nd_arg2 = np.arange(4, 10)\n",
    "print(\"2 args, 4 & 10:\\n\", nd_arg2)\n",
    "\n",
    "# when 3 args given, 1st is start, 2nd is stop, 3rd is step\n",
    "nd_arg3 = np.arange(1, 14, 3)\n",
    "print(\"3 args, 1, 14, 3:\\n\", nd_arg3)"
   ]
  },
  {
   "cell_type": "markdown",
   "metadata": {},
   "source": [
    "**Create ndarray with specified range of floats**<br>\n",
    "* Takes 3 args: start, stop, n\n",
    " * requires at least 2 args: stop & stop\n",
    " * n isn't the step, but the number of values you want\n",
    " * if n isn't specified, it defaults to 50\n",
    "* start & stop are inclusive by default\n",
    " * can override this by adding an additional param: endpoint=False"
   ]
  },
  {
   "cell_type": "code",
   "execution_count": 78,
   "metadata": {},
   "outputs": [
    {
     "name": "stdout",
     "output_type": "stream",
     "text": [
      "float range array, inclusive:\n",
      " [ 0.          2.77777778  5.55555556  8.33333333 11.11111111 13.88888889\n",
      " 16.66666667 19.44444444 22.22222222 25.        ] \n",
      "\n",
      "float range array, exclusive:\n",
      " [ 0.   2.5  5.   7.5 10.  12.5 15.  17.5 20.  22.5]\n"
     ]
    }
   ],
   "source": [
    "nd_float_n_range = np.linspace(0, 25, 10)\n",
    "print(\"float range array, inclusive:\\n\", nd_float_step, \"\\n\")\n",
    "\n",
    "nd_float_step_exclusive = np.linspace(0, 25, 10, endpoint=False)\n",
    "print(\"float range array, exclusive:\\n\", nd_float_step_exclusive)"
   ]
  },
  {
   "cell_type": "markdown",
   "metadata": {},
   "source": [
    "**Create randomized arrays/matrices**<br>\n",
    "* often use random in machine learning\n",
    " * when initializing weights in neural networks\n",
    "* functions are contained in numpy's random module \n",
    " * so must use dot op to access 'random' module before using functions"
   ]
  },
  {
   "cell_type": "code",
   "execution_count": 84,
   "metadata": {},
   "outputs": [
    {
     "name": "stdout",
     "output_type": "stream",
     "text": [
      "random float array:\n",
      " [[0.04215499 0.89094011 0.28572072]\n",
      " [0.48770199 0.53009047 0.62885518]\n",
      " [0.0392371  0.21078589 0.59738158]]\n"
     ]
    }
   ],
   "source": [
    "# array of random floats between 0 & 1, where 0 is inclusive & 1 exclusive\n",
    "rand_arr = np.random.random((3, 3))\n",
    "print(\"random float array:\\n\", rand_arr)"
   ]
  },
  {
   "cell_type": "code",
   "execution_count": 85,
   "metadata": {},
   "outputs": [
    {
     "name": "stdout",
     "output_type": "stream",
     "text": [
      "random int array w range:\n",
      " [[ 4 10]\n",
      " [11  7]\n",
      " [ 8  7]]\n"
     ]
    }
   ],
   "source": [
    "# array of random ints in a given range, where \n",
    " # 1st arg is the lower bound of range, inclusive\n",
    " # 2nd arg is upper bound of range, exclusive\n",
    " # 3rd arg is tuple for shape\n",
    "rand_int_range = np.random.randint(4, 15, (3, 2))\n",
    "print(\"random int array w range:\\n\", rand_int_range)"
   ]
  },
  {
   "cell_type": "markdown",
   "metadata": {},
   "source": [
    "**Create random permuted sequence** <br>\n",
    "This won't have duplicates like the randint() function"
   ]
  },
  {
   "cell_type": "code",
   "execution_count": 6,
   "metadata": {},
   "outputs": [
    {
     "name": "stdout",
     "output_type": "stream",
     "text": [
      "[8 6 5 9 4 2 3 1 7 0]\n",
      "[12  9 15  1  4]\n"
     ]
    }
   ],
   "source": [
    "# returns randomized sequence of 0-9\n",
    "print(np.random.permutation(10))\n",
    "\n",
    "# returns randomized sequence of given\n",
    "print(np.random.permutation([1, 4, 9, 12, 15]))\n"
   ]
  },
  {
   "cell_type": "markdown",
   "metadata": {},
   "source": [
    "**Create randomized arrays/matrices that satisfy some statistical properties**<br>\n",
    "* Can create random arrays with numbers drawn from various probability distributions\n",
    "* Can get mean, stan dev, min, max, etc."
   ]
  },
  {
   "cell_type": "code",
   "execution_count": 89,
   "metadata": {},
   "outputs": [
    {
     "name": "stdout",
     "output_type": "stream",
     "text": [
      "[[ 0.10183654 -0.11481208 -0.06143871 ...  0.0581417   0.06721711\n",
      "   0.05968294]\n",
      " [ 0.05987433 -0.05824493 -0.00831663 ...  0.01480538 -0.06950297\n",
      "  -0.02836399]\n",
      " [-0.00568082  0.08548414 -0.06340922 ...  0.01158762 -0.10754176\n",
      "  -0.12194862]\n",
      " ...\n",
      " [ 0.0808518   0.03925191 -0.1470603  ... -0.08791296 -0.01541348\n",
      "  -0.00590724]\n",
      " [ 0.00057217 -0.06272317 -0.0057382  ...  0.12524738  0.07976549\n",
      "  -0.10397455]\n",
      " [-0.05409676  0.02521265  0.0891198  ... -0.16189873 -0.27363629\n",
      "  -0.14128807]]\n",
      "\n",
      "\n",
      "mean: -5.608245499639116e-05\n",
      "std: 0.09999876249515768\n",
      "max: 0.46492353085442906\n",
      "min: -0.4721527982718894\n",
      "# positive nums: 500161\n",
      "# negative nums: 499839\n"
     ]
    }
   ],
   "source": [
    "# Gaussian\n",
    "# creates a 1000 x 1000 array with a given shape containing random floats picked from a normal distribution\n",
    " # with a given mean of 0 & standard deviation of 0.1\n",
    "norm_dist_arr = np.random.normal(0, 0.1, size=(1000, 1000))\n",
    "print(norm_dist_arr)\n",
    "print(\"\\n\")\n",
    "print(\"mean:\", norm_dist_arr.mean())\n",
    "print(\"std:\", norm_dist_arr.std())\n",
    "print(\"max:\", norm_dist_arr.max())\n",
    "print(\"min:\", norm_dist_arr.min())\n",
    "print(\"# positive nums:\", (norm_dist_arr > 0).sum())\n",
    "print(\"# negative nums:\", (norm_dist_arr < 0).sum())"
   ]
  },
  {
   "cell_type": "markdown",
   "metadata": {},
   "source": [
    "As we can see, the average of the random numbers in the ndarray is close to zero, both the maximum and minimum values in X are symmetric about zero (the average), and we have about the same amount of positive and negative numbers."
   ]
  },
  {
   "cell_type": "markdown",
   "metadata": {},
   "source": [
    "# Accessing & Modifying ndarrays"
   ]
  },
  {
   "cell_type": "markdown",
   "metadata": {},
   "source": [
    "## Indexing "
   ]
  },
  {
   "cell_type": "code",
   "execution_count": 17,
   "metadata": {},
   "outputs": [
    {
     "name": "stdout",
     "output_type": "stream",
     "text": [
      "rank 1 array: [1 2 3 4 5]\n",
      "rank 2 array:\n",
      " [[1 2 3]\n",
      " [4 5 6]\n",
      " [7 8 9]]\n"
     ]
    }
   ],
   "source": [
    "# setup\n",
    "\n",
    "# rank 1 indexing & modifying\n",
    "r1 = np.array([1, 2, 3, 4, 5])\n",
    "print(\"rank 1 array:\", r1)\n",
    "\n",
    "#rank 2 indexing & modifying\n",
    "r2 = np.arange(1, 10).reshape(3, 3)\n",
    "print(\"rank 2 array:\\n\", r2)"
   ]
  },
  {
   "cell_type": "markdown",
   "metadata": {},
   "source": [
    "**Accessing with Indices** <br>\n",
    "Rank 1 ndarrays accessed the same way as regular arrays, but higher ranks different"
   ]
  },
  {
   "cell_type": "code",
   "execution_count": 13,
   "metadata": {},
   "outputs": [
    {
     "name": "stdout",
     "output_type": "stream",
     "text": [
      "1st element in 3rd array: 7\n"
     ]
    }
   ],
   "source": [
    "# 1st arg is array, 2nd arg is element\n",
    "elem_2_arr_1 = r2[0, 1]\n",
    "elem_1_arr_3 = r2[2, 0]\n",
    "print(\"1st element in 3rd array:\", elem_1_arr_3)"
   ]
  },
  {
   "cell_type": "markdown",
   "metadata": {},
   "source": [
    "**Modifying with Indices**"
   ]
  },
  {
   "cell_type": "code",
   "execution_count": 94,
   "metadata": {},
   "outputs": [
    {
     "name": "stdout",
     "output_type": "stream",
     "text": [
      "modified rank 2 array:\n",
      " [[  1   2   3]\n",
      " [  4   5 100]\n",
      " [  7   8   9]]\n"
     ]
    }
   ],
   "source": [
    "r2[1, 2] = 100\n",
    "print(\"modified rank 2 array:\\n\", r2)"
   ]
  },
  {
   "cell_type": "markdown",
   "metadata": {},
   "source": [
    "**Boolean Indexing** <br>\n",
    "When we don't know the indices of the elements we want to select, but want to select all that meet a certain requirement"
   ]
  },
  {
   "cell_type": "code",
   "execution_count": 18,
   "metadata": {},
   "outputs": [
    {
     "name": "stdout",
     "output_type": "stream",
     "text": [
      "Elements < 5: [1 2 3 4]\n",
      "Elements that are even: [2 4 6 8]\n",
      "Assign -1 to elements between <= 3 & > 8:\n",
      " [[ 1  2 -1]\n",
      " [-1 -1 -1]\n",
      " [-1  8  9]]\n"
     ]
    }
   ],
   "source": [
    "# grab elements\n",
    "elems_l = r2[r2 < 5]\n",
    "print(\"Elements < 5:\", elems_l)\n",
    "\n",
    "elems_mod = r2[r2 % 2 == 0]\n",
    "print(\"Elements that are even:\", elems_mod)\n",
    "\n",
    "# modify elements\n",
    "r2[(r2 >= 3) & (r2 < 8)] = -1\n",
    "print(\"Assign -1 to elements between <= 3 & > 8:\\n\", r2)"
   ]
  },
  {
   "cell_type": "markdown",
   "metadata": {},
   "source": [
    "## Slicing \n",
    "* used for retrieving subsets into different data (e.g. training, cross validation, testing sets)\n",
    "* slicing is the same as other languages for rank 1 arrays, but different for higher ranking arrays\n",
    "* slicing doesn't create a copy, but rather a view of original array\n",
    " * if you change a value in the subset, it will reflect in the original\n",
    " * if you want a copy, you need to use the copy function or method"
   ]
  },
  {
   "cell_type": "code",
   "execution_count": 4,
   "metadata": {},
   "outputs": [
    {
     "name": "stdout",
     "output_type": "stream",
     "text": [
      "starting array:\n",
      " [[ 1  2  3  4  5]\n",
      " [ 6  7  8  9 10]\n",
      " [11 12 13 14 15]\n",
      " [16 17 18 19 20]]\n"
     ]
    }
   ],
   "source": [
    "# create matrix\n",
    "mat = np.arange(1, 21).reshape(4, 5)\n",
    "print(\"starting array:\\n\", mat)"
   ]
  },
  {
   "cell_type": "markdown",
   "metadata": {},
   "source": [
    "**Matrix subset** <br>\n",
    "the 1st arg specifies rows, 2nd arg specified columns"
   ]
  },
  {
   "cell_type": "code",
   "execution_count": 127,
   "metadata": {},
   "outputs": [
    {
     "name": "stdout",
     "output_type": "stream",
     "text": [
      "[[ 8  9]\n",
      " [13 14]\n",
      " [18 19]]\n"
     ]
    }
   ],
   "source": [
    "# grab subset of matrix\n",
    "sub_mat = mat[1:, 2:4]\n",
    "print(sub_mat)"
   ]
  },
  {
   "cell_type": "markdown",
   "metadata": {},
   "source": [
    "**Accessing ndrray column/row**<br>\n",
    "2 different syntaxes depending on if you want the output to be rank 1 or rank 2"
   ]
  },
  {
   "cell_type": "code",
   "execution_count": 135,
   "metadata": {},
   "outputs": [
    {
     "name": "stdout",
     "output_type": "stream",
     "text": [
      "Column to rank 1:\n",
      " [ 3  8 13 18]\n",
      "Column to rank 2:\n",
      " [[ 3]\n",
      " [ 8]\n",
      " [13]\n",
      " [18]]\n"
     ]
    }
   ],
   "source": [
    "# column into rank 1\n",
    "sub_arr = mat[:, 2]\n",
    "print(\"Column to rank 1:\\n\", sub_arr)\n",
    "\n",
    "# column into rank 2\n",
    "sub_arr_r2 = mat[:, 2:3]\n",
    "print(\"Column to rank 2:\\n\", sub_arr_r2)"
   ]
  },
  {
   "cell_type": "markdown",
   "metadata": {},
   "source": [
    "**Copy slice** <br>\n",
    "Can be used as a function or a method"
   ]
  },
  {
   "cell_type": "code",
   "execution_count": 6,
   "metadata": {},
   "outputs": [
    {
     "name": "stdout",
     "output_type": "stream",
     "text": [
      "[[ 8  9]\n",
      " [13 14]\n",
      " [18 19]]\n",
      "[[ 8  9]\n",
      " [13 14]\n",
      " [18 19]]\n"
     ]
    }
   ],
   "source": [
    "# copy function\n",
    "copy_func_sub_a = np.copy(mat[1:, 2:4])\n",
    "print(copy_func_sub_a)\n",
    "\n",
    "# copy method\n",
    "copy_meth_sub_arr = mat[1:, 2:4].copy()\n",
    "print(copy_meth_sub_arr)"
   ]
  },
  {
   "cell_type": "markdown",
   "metadata": {},
   "source": [
    "## Accessing with Functions"
   ]
  },
  {
   "cell_type": "markdown",
   "metadata": {},
   "source": [
    "**Extract Diagonal Elements** <br>\n",
    "Can extract elements along diagonal, above, or below it"
   ]
  },
  {
   "cell_type": "code",
   "execution_count": 7,
   "metadata": {},
   "outputs": [
    {
     "name": "stdout",
     "output_type": "stream",
     "text": [
      "[ 1  7 13 19]\n"
     ]
    }
   ],
   "source": [
    "# get diagonal\n",
    "diag_a = np.diag(mat)\n",
    "print(diag_a)"
   ]
  },
  {
   "cell_type": "code",
   "execution_count": 8,
   "metadata": {},
   "outputs": [
    {
     "name": "stdout",
     "output_type": "stream",
     "text": [
      "[ 2  8 14 20]\n"
     ]
    }
   ],
   "source": [
    "# get elements above diagonal by setting param k=1\n",
    "above_diag = np.diag(mat, k=1)\n",
    "print(above_diag)"
   ]
  },
  {
   "cell_type": "code",
   "execution_count": 10,
   "metadata": {},
   "outputs": [
    {
     "name": "stdout",
     "output_type": "stream",
     "text": [
      "[11 17]\n"
     ]
    }
   ],
   "source": [
    "# get elements below diagonal by setting k to negative #\n",
    "below_diag = np.diag(mat, k=-2)\n",
    "print(below_diag)"
   ]
  },
  {
   "cell_type": "markdown",
   "metadata": {},
   "source": [
    "**Extract unique elements** <br>\n",
    "Also sorts result"
   ]
  },
  {
   "cell_type": "code",
   "execution_count": 13,
   "metadata": {},
   "outputs": [
    {
     "name": "stdout",
     "output_type": "stream",
     "text": [
      "[ 1  3  4  8  9 10]\n",
      "[[ 1  3  4]\n",
      " [ 3  8 10]\n",
      " [ 3  9  3]]\n"
     ]
    }
   ],
   "source": [
    "# array with repeated values\n",
    "dupl_arr = np.array([[1, 3, 4],[3, 8, 10],[3, 9, 3]])\n",
    "unique_arr = np.unique(dupl_arr)\n",
    "print(unique_arr)"
   ]
  },
  {
   "cell_type": "markdown",
   "metadata": {},
   "source": [
    "**Set Operations** <br>\n",
    "* useful when comparing 2 arrays\n",
    "* union, intersection, & difference"
   ]
  },
  {
   "cell_type": "code",
   "execution_count": 26,
   "metadata": {},
   "outputs": [
    {
     "name": "stdout",
     "output_type": "stream",
     "text": [
      "The elements that are both in x and y: [2 4]\n",
      "The elements that are in x that are not in y: [1 3 5]\n",
      "All the elements of x and y: [1 2 3 4 5 6 7 8]\n"
     ]
    }
   ],
   "source": [
    "x = np.array([1, 2, 3, 4, 5])\n",
    "y = np.array([6, 7, 2, 8, 4])\n",
    "print('The elements that are both in x and y:', np.intersect1d(x,y))\n",
    "print('The elements that are in x that are not in y:', np.setdiff1d(x,y))\n",
    "print('All the elements of x and y:',np.union1d(x,y))"
   ]
  },
  {
   "cell_type": "markdown",
   "metadata": {},
   "source": [
    "## Modifying with Functions"
   ]
  },
  {
   "cell_type": "markdown",
   "metadata": {},
   "source": [
    "**Change shape (dimensions) of ndarray**<br>\n",
    "* Have to make sure that the shape is compatible with original array, i.e. shape args must be factors of orginal array or it will throw an error.\n",
    "* Can use reshape as a function by passing in an array with the args, or as a method on an existing array"
   ]
  },
  {
   "cell_type": "code",
   "execution_count": 81,
   "metadata": {},
   "outputs": [
    {
     "name": "stdout",
     "output_type": "stream",
     "text": [
      "original array: [0. 0. 0. 0. 0. 0. 0. 0. 0. 0. 0. 0. 0. 0. 0. 0. 0. 0. 0. 0.]\n",
      "solo shaped array:\n",
      " [[0. 0. 0. 0. 0.]\n",
      " [0. 0. 0. 0. 0.]\n",
      " [0. 0. 0. 0. 0.]\n",
      " [0. 0. 0. 0. 0.]]\n",
      "dot op shaped array:\n",
      " [[ 0.  5.]\n",
      " [10. 15.]\n",
      " [20. 25.]\n",
      " [30. 35.]\n",
      " [40. 45.]]\n"
     ]
    }
   ],
   "source": [
    "original_arr = np.zeros(20)\n",
    "print(\"original array:\", original_arr)\n",
    "\n",
    "# done by passing in original\n",
    "shape_2d_arr_arg = np.reshape(original_arr, (4,5))\n",
    "print(\"solo shaped array:\\n\", shape_2d_arr_arg)\n",
    "\n",
    "# done by using dot op method\n",
    "shape_2d_arr_dot = np.linspace(0, 50, 10, endpoint=False).reshape(5, 2)\n",
    "print(\"dot op shaped array:\\n\", shape_2d_arr_dot)"
   ]
  },
  {
   "cell_type": "markdown",
   "metadata": {},
   "source": [
    "**Sorting ndarrays** <br>\n",
    "* Can use sort as a function or method, but results are different\n",
    " * sort function sorts out-of-place, not changing the original array & creates a copy instead\n",
    " * sort method sorts in-place & changes the original\n",
    "* For rank 2, use axis param to sort by rows or columns\n",
    " * axis=0 sorts by rows\n",
    " * axis=1 sorts by columns\n",
    " * axis=None sorts array is flattened & returns rank 1 array\n",
    " * if no axis specified, default is -1, which sorts as 1?\n",
    "* Can use unique() function to sort unique elements as well, but won't alter original"
   ]
  },
  {
   "cell_type": "code",
   "execution_count": 7,
   "metadata": {},
   "outputs": [
    {
     "name": "stdout",
     "output_type": "stream",
     "text": [
      "new sorted array using sort function: [1 2 3 4 5 7]\n",
      "original array not changed: [1 5 7 2 4 3]\n",
      "original array after sort method: [1 2 3 4 5 7]\n"
     ]
    }
   ],
   "source": [
    "# sorting rank 1 arrays\n",
    "arr_to_sort = np.array([1, 5, 7, 2, 4, 3])\n",
    "\n",
    "sorted_func = np.sort(arr_to_sort)\n",
    "print(\"new sorted array using sort function:\", sorted_func)\n",
    "print(\"original array not changed:\", arr_to_sort)\n",
    "\n",
    "arr_to_sort.sort()\n",
    "print(\"original array after sort method:\", arr_to_sort)\n"
   ]
  },
  {
   "cell_type": "code",
   "execution_count": 16,
   "metadata": {},
   "outputs": [
    {
     "name": "stdout",
     "output_type": "stream",
     "text": [
      "original r2 array:\n",
      " [[ 7  5  4  7  7]\n",
      " [ 9  6  1  9 10]\n",
      " [10  3  2  3  4]\n",
      " [ 3  7  8 10  8]\n",
      " [ 5  7  8  5  7]]\n",
      "sorted by rows:\n",
      " [[ 3  3  1  3  4]\n",
      " [ 5  5  2  5  7]\n",
      " [ 7  6  4  7  7]\n",
      " [ 9  7  8  9  8]\n",
      " [10  7  8 10 10]]\n",
      "sorted by columns:\n",
      " [[ 4  5  7  7  7]\n",
      " [ 1  6  9  9 10]\n",
      " [ 2  3  3  4 10]\n",
      " [ 3  7  8  8 10]\n",
      " [ 5  5  7  7  8]]\n",
      "sorted by default:\n",
      " [[ 4  5  7  7  7]\n",
      " [ 1  6  9  9 10]\n",
      " [ 2  3  3  4 10]\n",
      " [ 3  7  8  8 10]\n",
      " [ 5  5  7  7  8]]\n",
      "sorted by flattening: [ 1  2  3  3  3  4  4  5  5  5  6  7  7  7  7  7  7  8  8  8  9  9 10 10\n",
      " 10]\n",
      "sorted by unique(): [ 1  2  3  4  5  6  7  8  9 10]\n"
     ]
    }
   ],
   "source": [
    "# sorting rank 2+ arrays: need to use axis param\n",
    "r2_to_sort = np.random.randint(1, 11, size=(5, 5))\n",
    "print(\"original r2 array:\\n\", r2_to_sort)\n",
    "\n",
    "print(\"sorted by rows:\\n\", np.sort(r2_to_sort, axis=0))\n",
    "print(\"sorted by columns:\\n\", np.sort(r2_to_sort, axis=1))\n",
    "print(\"sorted by default:\\n\", np.sort(r2_to_sort))\n",
    "print(\"sorted by flattening:\", np.sort(r2_to_sort, axis=None))\n",
    "print(\"sorted by unique():\", np.unique(r2_to_sort))"
   ]
  },
  {
   "cell_type": "markdown",
   "metadata": {},
   "source": [
    "## Deleting\n",
    "* 1st arg is array\n",
    "* 2nd arg is list of elements to be deleted\n",
    "* 3rd arg is axis\n",
    " * axis 0 to select rows, axis 1 to select columns\n",
    " * not required for rank 1 arrays\n",
    "* returns new array without specified elements since ndarrays cannot be resized"
   ]
  },
  {
   "cell_type": "code",
   "execution_count": 104,
   "metadata": {},
   "outputs": [
    {
     "name": "stdout",
     "output_type": "stream",
     "text": [
      "[2 3 4]\n"
     ]
    }
   ],
   "source": [
    "# rank 1 delete multiple\n",
    "del_r1 = np.delete(r1, [0, 4])\n",
    "print(del_r1)"
   ]
  },
  {
   "cell_type": "code",
   "execution_count": 105,
   "metadata": {},
   "outputs": [
    {
     "name": "stdout",
     "output_type": "stream",
     "text": [
      "[[4 5 6]\n",
      " [7 8 9]]\n"
     ]
    }
   ],
   "source": [
    "# rank 2 delete row\n",
    "del_row = np.delete(r2, 0, axis=0)\n",
    "print(del_row)"
   ]
  },
  {
   "cell_type": "code",
   "execution_count": 98,
   "metadata": {},
   "outputs": [
    {
     "name": "stdout",
     "output_type": "stream",
     "text": [
      "[[  3]\n",
      " [100]\n",
      " [  9]]\n"
     ]
    }
   ],
   "source": [
    "# rank 2 delete column\n",
    "del_2_col = np.delete(r2, [0,1], axis=1)\n",
    "print(del_2_col)"
   ]
  },
  {
   "cell_type": "markdown",
   "metadata": {},
   "source": [
    "## Adding\n",
    "When adding rows/cols to rank 2, must match the shape"
   ]
  },
  {
   "cell_type": "markdown",
   "metadata": {},
   "source": [
    "**Appending**"
   ]
  },
  {
   "cell_type": "code",
   "execution_count": 106,
   "metadata": {},
   "outputs": [
    {
     "name": "stdout",
     "output_type": "stream",
     "text": [
      "[1 2 3 4 5 6 7]\n"
     ]
    }
   ],
   "source": [
    "# r1 append multiple\n",
    "add_r1 = np.append(r1, [6, 7])\n",
    "print(add_r1)"
   ]
  },
  {
   "cell_type": "code",
   "execution_count": 108,
   "metadata": {},
   "outputs": [
    {
     "name": "stdout",
     "output_type": "stream",
     "text": [
      "[[ 1  2  3]\n",
      " [ 4  5  6]\n",
      " [ 7  8  9]\n",
      " [10 11 12]]\n"
     ]
    }
   ],
   "source": [
    "# r2 append row\n",
    "r2_add_row = np.append(r2, [[10, 11, 12]], axis=0)\n",
    "print(r2_add_row)"
   ]
  },
  {
   "cell_type": "markdown",
   "metadata": {},
   "source": [
    "**Inserting**"
   ]
  },
  {
   "cell_type": "code",
   "execution_count": 111,
   "metadata": {},
   "outputs": [
    {
     "name": "stdout",
     "output_type": "stream",
     "text": [
      "[ 1  2 53 89  3  4  5]\n"
     ]
    }
   ],
   "source": [
    "# r1 insert in middle\n",
    "r1_in = np.insert(r1, 2, [53, 89])\n",
    "print(r1_in)"
   ]
  },
  {
   "cell_type": "code",
   "execution_count": 112,
   "metadata": {},
   "outputs": [
    {
     "name": "stdout",
     "output_type": "stream",
     "text": [
      "[[  1   2   3]\n",
      " [  4   5   6]\n",
      " [301 303 304]\n",
      " [  7   8   9]]\n"
     ]
    }
   ],
   "source": [
    "# r2 insert row\n",
    "r2_in_row = np.insert(r2, 2, [301, 303, 304], axis=0)\n",
    "print(r2_in_row)"
   ]
  },
  {
   "cell_type": "markdown",
   "metadata": {},
   "source": [
    "**Stacking**<br>\n",
    "Note that side stacking requires reshaping"
   ]
  },
  {
   "cell_type": "code",
   "execution_count": 123,
   "metadata": {},
   "outputs": [
    {
     "name": "stdout",
     "output_type": "stream",
     "text": [
      "vstack:\n",
      " [[1 2]\n",
      " [3 4]\n",
      " [5 6]]\n",
      "hstack:\n",
      " [[3 4 1]\n",
      " [5 6 2]]\n"
     ]
    }
   ],
   "source": [
    "x = np.array([1, 2])\n",
    "y = np.array([[3, 4], [5, 6]])\n",
    "\n",
    "# vertical stack\n",
    "top_stack = np.vstack((x, y))\n",
    "print(\"vstack:\\n\", top_stack)\n",
    "\n",
    "# horizontal stack\n",
    "side_stack = np.hstack((y, x.reshape(2, 1)))\n",
    "print(\"hstack:\\n\", side_stack)"
   ]
  },
  {
   "cell_type": "markdown",
   "metadata": {},
   "source": [
    "## Element-wise Operations\n",
    "* when performing element-wise operations, the shapes of the ndarrays being operated on, must have the same shape or be broadcastable\n",
    "* Broadcasting is the term used to describe how NumPy handles element-wise arithmetic operations with ndarrays of different shapes. \n",
    " * broadcasting is used implicitly when doing arithmetic operations between scalars and ndarrays."
   ]
  },
  {
   "cell_type": "markdown",
   "metadata": {},
   "source": [
    "**Arethmetic Operations between 1D arrays** <br>\n",
    "Can use functions or arethmetic symbols, but functions usually have options that you can tweak using keywords"
   ]
  },
  {
   "cell_type": "code",
   "execution_count": 20,
   "metadata": {},
   "outputs": [
    {
     "name": "stdout",
     "output_type": "stream",
     "text": [
      "x =  [1 2 3 4]\n",
      "y =  [5.5 6.5 7.5 8.5]\n",
      "\n",
      "x + y =  [ 6.5  8.5 10.5 12.5]\n",
      "add(x,y) =  [ 6.5  8.5 10.5 12.5]\n",
      "x - y =  [-4.5 -4.5 -4.5 -4.5]\n",
      "subtract(x,y) =  [-4.5 -4.5 -4.5 -4.5]\n",
      "x * y =  [ 5.5 13.  22.5 34. ]\n",
      "multiply(x,y) =  [ 5.5 13.  22.5 34. ]\n",
      "x / y =  [0.18181818 0.30769231 0.4        0.47058824]\n",
      "divide(x,y) =  [0.18181818 0.30769231 0.4        0.47058824]\n"
     ]
    }
   ],
   "source": [
    "# create two rank 1 ndarrays\n",
    "x = np.array([1,2,3,4])\n",
    "y = np.array([5.5,6.5,7.5,8.5])\n",
    "\n",
    "print('x = ', x)\n",
    "print('y = ', y)\n",
    "print()\n",
    "\n",
    "# Add, subtract, multiply, divide using symbols & functions\n",
    "print('x + y = ', x + y)\n",
    "print('add(x,y) = ', np.add(x,y))\n",
    "print('x - y = ', x - y)\n",
    "print('subtract(x,y) = ', np.subtract(x,y))\n",
    "print('x * y = ', x * y)\n",
    "print('multiply(x,y) = ', np.multiply(x,y))\n",
    "print('x / y = ', x / y)\n",
    "print('divide(x,y) = ', np.divide(x,y))"
   ]
  },
  {
   "cell_type": "markdown",
   "metadata": {},
   "source": [
    "**Arethmetic Operations between 2D arrays of the same shape**"
   ]
  },
  {
   "cell_type": "code",
   "execution_count": 21,
   "metadata": {},
   "outputs": [
    {
     "name": "stdout",
     "output_type": "stream",
     "text": [
      "X = \n",
      " [[1 2]\n",
      " [3 4]]\n",
      "Y = \n",
      " [[5.5 6.5]\n",
      " [7.5 8.5]]\n",
      "\n",
      "X + Y = \n",
      " [[ 6.5  8.5]\n",
      " [10.5 12.5]]\n",
      "add(X,Y) = \n",
      " [[ 6.5  8.5]\n",
      " [10.5 12.5]]\n",
      "X - Y = \n",
      " [[-4.5 -4.5]\n",
      " [-4.5 -4.5]]\n",
      "subtract(X,Y) = \n",
      " [[-4.5 -4.5]\n",
      " [-4.5 -4.5]]\n",
      "X * Y = \n",
      " [[ 5.5 13. ]\n",
      " [22.5 34. ]]\n",
      "multiply(X,Y) = \n",
      " [[ 5.5 13. ]\n",
      " [22.5 34. ]]\n",
      "X / Y = \n",
      " [[0.18181818 0.30769231]\n",
      " [0.4        0.47058824]]\n",
      "divide(X,Y) = \n",
      " [[0.18181818 0.30769231]\n",
      " [0.4        0.47058824]]\n"
     ]
    }
   ],
   "source": [
    "# create rank 3 arrays\n",
    "X = np.array([1,2,3,4]).reshape(2,2)\n",
    "Y = np.array([5.5,6.5,7.5,8.5]).reshape(2,2)\n",
    "print('X = \\n', X)\n",
    "print('Y = \\n', Y)\n",
    "print()\n",
    "\n",
    "# Add, subtract, multiply, divide using symbols & functions\n",
    "print('X + Y = \\n', X + Y)\n",
    "print('add(X,Y) = \\n', np.add(X,Y))\n",
    "print('X - Y = \\n', X - Y)\n",
    "print('subtract(X,Y) = \\n', np.subtract(X,Y))\n",
    "print('X * Y = \\n', X * Y)\n",
    "print('multiply(X,Y) = \\n', np.multiply(X,Y))\n",
    "print('X / Y = \\n', X / Y)\n",
    "print('divide(X,Y) = \\n', np.divide(X,Y))"
   ]
  },
  {
   "cell_type": "markdown",
   "metadata": {},
   "source": [
    "**Arethmetic Operations between 2D arrays of of different shapes** <br>\n",
    "NumPy is able to add 1 x 3 and 3 x 1 ndarrays to 3 x 3 ndarrays by broadcasting the smaller ndarrays along the big ndarray so that they have compatible shapes. \n",
    "In general, NumPy can do this provided that the smaller ndarray, such as the 1 x 3 ndarray in our example, can be expanded to the shape of the larger ndarray in such a way that the resulting broadcast is unambiguous."
   ]
  },
  {
   "cell_type": "code",
   "execution_count": 5,
   "metadata": {},
   "outputs": [
    {
     "name": "stdout",
     "output_type": "stream",
     "text": [
      "x =  [1 2 3]\n",
      "Y = \n",
      " [[1 2 3]\n",
      " [4 5 6]\n",
      " [7 8 9]]\n",
      "Z = \n",
      " [[1]\n",
      " [2]\n",
      " [3]]\n",
      "x + Y = \n",
      " [[ 2  4  6]\n",
      " [ 5  7  9]\n",
      " [ 8 10 12]]\n",
      "Z + Y = \n",
      " [[ 2  3  4]\n",
      " [ 6  7  8]\n",
      " [10 11 12]]\n"
     ]
    }
   ],
   "source": [
    "# create a rank 1 ndarray to work with\n",
    "x = np.array([1,2,3])\n",
    "\n",
    "# create a 3 x 3 ndarray to work with\n",
    "Y = np.array([[1,2,3],[4,5,6],[7,8,9]])\n",
    "\n",
    "# create a 3 x 1 ndarray\n",
    "Z = np.array([1,2,3]).reshape(3,1)\n",
    "\n",
    "print('x = ', x)\n",
    "print('Y = \\n', Y)\n",
    "print('Z = \\n', Z)\n",
    "\n",
    "print('x + Y = \\n', x + Y)\n",
    "print('Z + Y = \\n',Z + Y)"
   ]
  },
  {
   "cell_type": "markdown",
   "metadata": {},
   "source": [
    "**Arithmetic with single numbers** <br>\n",
    "NumPy is working behind the scenes to broadcast 3 along the ndarray so that they have the same shape. This allows us to add 3 to each element of X with just one line of code."
   ]
  },
  {
   "cell_type": "code",
   "execution_count": 4,
   "metadata": {},
   "outputs": [
    {
     "name": "stdout",
     "output_type": "stream",
     "text": [
      "X = \n",
      " [[1 2]\n",
      " [3 4]]\n",
      "3 * X = \n",
      " [[ 3  6]\n",
      " [ 9 12]]\n",
      "3 + X = \n",
      " [[4 5]\n",
      " [6 7]]\n",
      "X - 3 = \n",
      " [[-2 -1]\n",
      " [ 0  1]]\n",
      "X / 3 = \n",
      " [[0.33333333 0.66666667]\n",
      " [1.         1.33333333]]\n"
     ]
    }
   ],
   "source": [
    "# create a 2 x 2 ndarray to work with\n",
    "X = np.array([[1,2], [3,4]])\n",
    "print('X = \\n', X)\n",
    "print('3 * X = \\n', 3 * X)\n",
    "print('3 + X = \\n', 3 + X)\n",
    "print('X - 3 = \\n', X - 3)\n",
    "print('X / 3 = \\n', X / 3)"
   ]
  },
  {
   "cell_type": "markdown",
   "metadata": {},
   "source": [
    "**Mathematic Functions** <br>\n",
    "List of math funcs can be found: https://numpy.org/devdocs/reference/routines.math.html?highlight=arithmetic#mathematical-functions"
   ]
  },
  {
   "cell_type": "code",
   "execution_count": 2,
   "metadata": {},
   "outputs": [
    {
     "name": "stdout",
     "output_type": "stream",
     "text": [
      "x =  [1 2 3 4]\n",
      "EXP(x) = [ 2.71828183  7.3890561  20.08553692 54.59815003]\n",
      "SQRT(x) = [1.         1.41421356 1.73205081 2.        ]\n",
      "POW(x,2) = [ 1  4  9 16]\n"
     ]
    }
   ],
   "source": [
    "# create a rank 1 ndarray to work with\n",
    "x = np.array([1,2,3,4])\n",
    "print('x = ', x)\n",
    "\n",
    "# The exponential function is e^x where e is a mathematical constant called Euler's number, approximately 2.718281. \n",
    " # This value has a close mathematical relationship with pi and the slope of the curve e^x is equal to its value at every point. \n",
    "  # np.exp() calculates e^x for each value of x in your input array.\n",
    "print('EXP(x) =', np.exp(x))\n",
    "\n",
    "# gets square root of each element \n",
    "print('SQRT(x) =',np.sqrt(x))\n",
    "\n",
    "# raise all elements to the power of 2\n",
    "print('POW(x,2) =',np.power(x,2)) "
   ]
  },
  {
   "cell_type": "markdown",
   "metadata": {},
   "source": [
    "**Statistical Functions** <br>\n",
    "Most of the statistical operations can be done using either a function or an equivalent method. For example, both numpy.mean function and numpy.ndarray.mean method will return the arithmetic mean of the array elements along the given axis."
   ]
  },
  {
   "cell_type": "code",
   "execution_count": 3,
   "metadata": {},
   "outputs": [
    {
     "name": "stdout",
     "output_type": "stream",
     "text": [
      "X = \n",
      " [[1 2]\n",
      " [3 4]]\n",
      "Average of all elements in X: 2.5\n",
      "Average of all elements in the columns of X: [2. 3.]\n",
      "Average of all elements in the rows of X: [1.5 3.5]\n",
      "\n",
      "Sum of all elements in X: 10\n",
      "Sum of all elements in the columns of X: [4 6]\n",
      "Sum of all elements in the rows of X: [3 7]\n",
      "\n",
      "Standard Deviation of all elements in X: 1.118033988749895\n",
      "Standard Deviation of all elements in the columns of X: [1. 1.]\n",
      "Standard Deviation of all elements in the rows of X: [0.5 0.5]\n",
      "\n",
      "Median of all elements in X: 2.5\n",
      "Median of all elements in the columns of X: [2. 3.]\n",
      "Median of all elements in the rows of X: [1.5 3.5]\n",
      "\n",
      "Maximum value of all elements in X: 4\n",
      "Maximum value of all elements in the columns of X: [3 4]\n",
      "Maximum value of all elements in the rows of X: [2 4]\n",
      "\n",
      "Minimum value of all elements in X: 1\n",
      "Minimum value of all elements in the columns of X: [1 2]\n",
      "Minimum value of all elements in the rows of X: [1 3]\n"
     ]
    }
   ],
   "source": [
    "# create a 2 x 2 ndarray to work with\n",
    "X = np.array([[1,2], [3,4]])\n",
    "print('X = \\n', X)\n",
    "print('Average of all elements in X:', X.mean())\n",
    "print('Average of all elements in the columns of X:', X.mean(axis=0))\n",
    "print('Average of all elements in the rows of X:', X.mean(axis=1))\n",
    "print()\n",
    "print('Sum of all elements in X:', X.sum())\n",
    "print('Sum of all elements in the columns of X:', X.sum(axis=0))\n",
    "print('Sum of all elements in the rows of X:', X.sum(axis=1))\n",
    "print()\n",
    "print('Standard Deviation of all elements in X:', X.std())\n",
    "print('Standard Deviation of all elements in the columns of X:', X.std(axis=0))\n",
    "print('Standard Deviation of all elements in the rows of X:', X.std(axis=1))\n",
    "print()\n",
    "print('Median of all elements in X:', np.median(X))\n",
    "print('Median of all elements in the columns of X:', np.median(X,axis=0))\n",
    "print('Median of all elements in the rows of X:', np.median(X,axis=1))\n",
    "print()\n",
    "print('Maximum value of all elements in X:', X.max())\n",
    "print('Maximum value of all elements in the columns of X:', X.max(axis=0))\n",
    "print('Maximum value of all elements in the rows of X:', X.max(axis=1))\n",
    "print()\n",
    "print('Minimum value of all elements in X:', X.min())\n",
    "print('Minimum value of all elements in the columns of X:', X.min(axis=0))\n",
    "print('Minimum value of all elements in the rows of X:', X.min(axis=1))"
   ]
  },
  {
   "cell_type": "markdown",
   "metadata": {},
   "source": [
    "# Getting Metadata for ndarrays"
   ]
  },
  {
   "cell_type": "markdown",
   "metadata": {},
   "source": [
    "**Get dimension lengths of array using shape**"
   ]
  },
  {
   "cell_type": "code",
   "execution_count": 45,
   "metadata": {},
   "outputs": [
    {
     "data": {
      "text/plain": [
       "(4, 3)"
      ]
     },
     "execution_count": 45,
     "metadata": {},
     "output_type": "execute_result"
    }
   ],
   "source": [
    "# is rank 2 with 4 rows & 3 columns\n",
    "arr_int_2d.shape"
   ]
  },
  {
   "cell_type": "markdown",
   "metadata": {},
   "source": [
    "**Get dimension rank (number of dimensions)**"
   ]
  },
  {
   "cell_type": "code",
   "execution_count": 44,
   "metadata": {},
   "outputs": [
    {
     "data": {
      "text/plain": [
       "2"
      ]
     },
     "execution_count": 44,
     "metadata": {},
     "output_type": "execute_result"
    }
   ],
   "source": [
    "arr_int_2d.ndim"
   ]
  },
  {
   "cell_type": "markdown",
   "metadata": {},
   "source": [
    "**Get total num of elements in n-dimensional array**"
   ]
  },
  {
   "cell_type": "code",
   "execution_count": 41,
   "metadata": {},
   "outputs": [
    {
     "data": {
      "text/plain": [
       "12"
      ]
     },
     "execution_count": 41,
     "metadata": {},
     "output_type": "execute_result"
    }
   ],
   "source": [
    "arr_int_2d.size"
   ]
  },
  {
   "cell_type": "markdown",
   "metadata": {},
   "source": [
    "# Load/Save"
   ]
  },
  {
   "cell_type": "markdown",
   "metadata": {},
   "source": [
    "**Save array in file for future use**"
   ]
  },
  {
   "cell_type": "code",
   "execution_count": 42,
   "metadata": {},
   "outputs": [],
   "source": [
    "# saves file name file-save-test.npy in current directory\n",
    "np.save('file-save-test', arr_str_1d)"
   ]
  },
  {
   "cell_type": "markdown",
   "metadata": {},
   "source": [
    "**Load saved npy file**"
   ]
  },
  {
   "cell_type": "code",
   "execution_count": 43,
   "metadata": {},
   "outputs": [
    {
     "name": "stdout",
     "output_type": "stream",
     "text": [
      "['one' 'two' 'three' 'four' 'five']\n"
     ]
    }
   ],
   "source": [
    "x = np.load('file-save-test.npy')\n",
    "print(x)"
   ]
  },
  {
   "cell_type": "markdown",
   "metadata": {},
   "source": []
  }
 ],
 "metadata": {
  "kernelspec": {
   "display_name": "Python 3",
   "language": "python",
   "name": "python3"
  },
  "language_info": {
   "codemirror_mode": {
    "name": "ipython",
    "version": 3
   },
   "file_extension": ".py",
   "mimetype": "text/x-python",
   "name": "python",
   "nbconvert_exporter": "python",
   "pygments_lexer": "ipython3",
   "version": "3.7.6"
  }
 },
 "nbformat": 4,
 "nbformat_minor": 4
}
